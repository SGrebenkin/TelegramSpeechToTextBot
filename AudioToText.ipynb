{
 "cells": [
  {
   "cell_type": "code",
   "execution_count": 19,
   "id": "dc987c00-91fd-4459-9fcf-aad2b61a6a59",
   "metadata": {},
   "outputs": [
    {
     "name": "stderr",
     "output_type": "stream",
     "text": [
      "sox WARN compand: compand clipped 9182 samples; decrease volume?\n",
      "sox WARN rate: rate clipped 1624 samples; decrease volume?\n",
      "sox WARN dither: dither clipped 1420 samples; decrease volume?\n"
     ]
    }
   ],
   "source": [
    "#import soundfile as sf\n",
    "#data, samplerate = sf.read(filename)\n",
    "#sf.write(\"C:/Users/sgrebenkin/Downloads/record-normalized.wav\", data, 16000)\n",
    "\n",
    "import subprocess\n",
    "src_filename = 'C:/Users/sgrebenkin/Downloads/voice_08-11-2024_09-15-56.ogg'\n",
    "dest_filename = 'C:/Users/sgrebenkin/Downloads/record.wav'\n",
    "\n",
    "process = subprocess.run(['ffmpeg', '-i', src_filename, dest_filename])\n",
    "if process.returncode != 0:\n",
    "    raise Exception(\"Something went wrong\")\n",
    "\n",
    "!sox \"C:/Users/sgrebenkin/Downloads/record.wav\" -r 16k \"C:/Users/sgrebenkin/Downloads/record-normalized.wav\" norm -0.5 compand 0.3,1 -90,-90,-70,-70,-60,-20,0,0 -5 0 0.2"
   ]
  },
  {
   "cell_type": "code",
   "execution_count": 20,
   "id": "70979f28-78bd-4de2-93a8-dc6fe0224829",
   "metadata": {},
   "outputs": [
    {
     "name": "stdout",
     "output_type": "stream",
     "text": [
      "{'text': 'Лично что надо остаться в рамках Сберы, просто пусть он определится, если он хочет про меня гадости какие-то говорить, тогда как я оттуда уйду? В его интересах, даже если он так не считает, а считает обратно, говорит, что я топовый специалист, чтобы меня скорее куда-то забрали и забыть про меня, если он так считает, что я херовый, доп там, допустим, да. Вот, ну, либо если он там про меня херово говорит, я не ухожу, ну, значит, терпеть меня, вот, работать со мной дальше, пока я сам не захочу уволиться, ну, как-то так.'}\n"
     ]
    }
   ],
   "source": [
    "import torch\n",
    "import numpy as np\n",
    "import soundfile as sf\n",
    "from transformers import WhisperForConditionalGeneration, WhisperProcessor, pipeline\n",
    "from scipy.io.wavfile import read\n",
    "from pydub import AudioSegment\n",
    "\n",
    "\n",
    "torch_dtype = torch.bfloat16 # set your preferred type here \n",
    "\n",
    "device = 'cpu'\n",
    "if torch.cuda.is_available():\n",
    "    device = 'cuda'\n",
    "elif torch.backends.mps.is_available():\n",
    "    device = 'mps'\n",
    "    setattr(torch.distributed, \"is_initialized\", lambda : False) # monkey patching\n",
    "device = torch.device(device)\n",
    "\n",
    "whisper = WhisperForConditionalGeneration.from_pretrained(\n",
    "    \"antony66/whisper-large-v3-russian\", torch_dtype=torch_dtype, low_cpu_mem_usage=True, use_safetensors=True,\n",
    "    attn_implementation=\"flash_attention_2\" #if your GPU supports it\n",
    ")\n",
    "\n",
    "processor = WhisperProcessor.from_pretrained(\"antony66/whisper-large-v3-russian\")\n",
    "\n",
    "asr_pipeline = pipeline(\n",
    "    \"automatic-speech-recognition\",\n",
    "    model=whisper,\n",
    "    tokenizer=processor.tokenizer,\n",
    "    feature_extractor=processor.feature_extractor,\n",
    "    max_new_tokens=256,\n",
    "    chunk_length_s=30,\n",
    "    batch_size=16,\n",
    "    return_timestamps=True,\n",
    "    torch_dtype=torch_dtype,\n",
    "    device=device,\n",
    ")"
   ]
  },
  {
   "cell_type": "code",
   "execution_count": 24,
   "id": "32062d1f-3f06-4a89-b160-6c0d269e669f",
   "metadata": {},
   "outputs": [
    {
     "name": "stderr",
     "output_type": "stream",
     "text": [
      "sox WARN compand: compand clipped 9182 samples; decrease volume?\n",
      "sox WARN rate: rate clipped 1624 samples; decrease volume?\n",
      "sox WARN dither: dither clipped 1416 samples; decrease volume?\n"
     ]
    },
    {
     "name": "stdout",
     "output_type": "stream",
     "text": [
      "{'text': 'Лично что надо остаться в рамках Сберы, просто пусть он определится, если он хочет про меня гадости какие-то говорить, тогда как я оттуда уйду? В его интересах, даже если он так не считает, а считает обратно, говорит, что я топовый специалист, чтобы меня скорее куда-то забрали и забыли про меня, если он так считает, что я херовый, доп там, допустим, да. Вот, ну, либо если он там про меня херово говорит, я не ухожу, ну, значит, терпеть меня, вот, работать со мной дальше, пока я сам не захочу уволиться, ну, как-то так.'}\n"
     ]
    }
   ],
   "source": [
    "import subprocess\n",
    "src_filename = 'C:/Users/sgrebenkin/Downloads/voice_08-11-2024_09-15-56.ogg'\n",
    "dest_filename = 'C:/Users/sgrebenkin/Downloads/record.wav'\n",
    "\n",
    "process = subprocess.run(['ffmpeg', '-i', src_filename, dest_filename])\n",
    "if process.returncode != 0:\n",
    "    raise Exception(\"Something went wrong\")\n",
    "\n",
    "!sox \"C:/Users/sgrebenkin/Downloads/record.wav\" -r 16k \"C:/Users/sgrebenkin/Downloads/record-normalized.wav\" norm -0.5 compand 0.3,1 -90,-90,-70,-70,-60,-20,0,0 -5 0 0.2\n",
    "\n",
    "# Load the audio file (Ogg Vorbis or other formats)\n",
    "with open('C:/Users/sgrebenkin/Downloads/record-normalized.wav', 'rb') as f:\n",
    "    audio_data, sample_rate = sf.read(f)\n",
    "\n",
    "# If stereo, take the first channel\n",
    "if audio_data.ndim > 1:\n",
    "    audio_data = audio_data[:, 0]\n",
    "\n",
    "# Normalize the audio data\n",
    "audio_data = audio_data.astype(np.float32)\n",
    "audio_data /= np.max(np.abs(audio_data))\n",
    "\n",
    "# Normalize the audio data\n",
    "audio_data /= np.max(np.abs(audio_data))\n",
    "\n",
    "# get the transcription\n",
    "asr = asr_pipeline(audio_data, generate_kwargs={\"language\": \"russian\", \"max_new_tokens\": 256}, return_timestamps=False)\n",
    "#asr = asr_pipeline(audio_data, generate_kwargs={\"max_new_tokens\": 256}, return_timestamps=False)\n",
    "\n",
    "print(asr)"
   ]
  }
 ],
 "metadata": {
  "kernelspec": {
   "display_name": "Python 3 (ipykernel)",
   "language": "python",
   "name": "python3"
  },
  "language_info": {
   "codemirror_mode": {
    "name": "ipython",
    "version": 3
   },
   "file_extension": ".py",
   "mimetype": "text/x-python",
   "name": "python",
   "nbconvert_exporter": "python",
   "pygments_lexer": "ipython3",
   "version": "3.9.19"
  }
 },
 "nbformat": 4,
 "nbformat_minor": 5
}
